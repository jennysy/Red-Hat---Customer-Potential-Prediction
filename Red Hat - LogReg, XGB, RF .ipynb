{
 "cells": [
  {
   "cell_type": "code",
   "execution_count": 1,
   "metadata": {
    "collapsed": true
   },
   "outputs": [],
   "source": [
    "import pandas as pd\n",
    "import numpy as np\n",
    "import os\n",
    "from sklearn.preprocessing import LabelEncoder, OneHotEncoder\n",
    "import datetime\n",
    "import xgboost as xgb\n",
    "from sklearn.linear_model import LogisticRegression\n",
    "from sklearn.metrics import roc_auc_score\n",
    "from sklearn.cross_validation import StratifiedKFold\n",
    "from sklearn.cross_validation import cross_val_score\n",
    "from sklearn.feature_selection import SelectKBest, f_classif\n",
    "from scipy.sparse import hstack,csr_matrix\n",
    "import random\n",
    "from sklearn.preprocessing import StandardScaler"
   ]
  },
  {
   "cell_type": "code",
   "execution_count": 2,
   "metadata": {
    "collapsed": true
   },
   "outputs": [],
   "source": [
    "file_path = 'C:\\\\hudsondata\\\\Machine Learning\\\\Redhat'\n",
    "people = pd.read_csv(os.path.join(file_path,'people.csv'), parse_dates = ['date'], dtype={'people_id':np.str, 'char_38':np.int})\n",
    "train = pd.read_csv(os.path.join(file_path,'act_train.csv'), parse_dates = ['date'], dtype={'people_id':np.str,'activity_id':np.str})\n",
    "test = pd.read_csv(os.path.join(file_path,'act_test.csv'), parse_dates = ['date'], dtype={'people_id':np.str, 'activity_id':np.str})"
   ]
  },
  {
   "cell_type": "markdown",
   "metadata": {},
   "source": [
    "# Processing Files"
   ]
  },
  {
   "cell_type": "code",
   "execution_count": 3,
   "metadata": {
    "collapsed": true
   },
   "outputs": [],
   "source": [
    "def peoplefile(ppl):\n",
    "    ppl = ppl.replace({'ppl_':'', 'type ':'', 'group ':''},regex=True)\n",
    "    bools = ppl.select_dtypes(include=['bool']).columns\n",
    "    ppl[bools] = ppl[bools].astype(int)\n",
    "    ppl.drop('char_1', 1, inplace=True)\n",
    "    return ppl"
   ]
  },
  {
   "cell_type": "code",
   "execution_count": 4,
   "metadata": {
    "collapsed": true
   },
   "outputs": [],
   "source": [
    "people = peoplefile(people)"
   ]
  },
  {
   "cell_type": "code",
   "execution_count": 5,
   "metadata": {
    "collapsed": true
   },
   "outputs": [],
   "source": [
    "def activity(activityfile):\n",
    "    activityfile = activityfile.replace({'ppl_':'','type ':''},regex=True)\n",
    "    activityfile.drop('char_10', 1, inplace=True)\n",
    "    activityfile.fillna(0,inplace=True)\n",
    "    return activityfile"
   ]
  },
  {
   "cell_type": "code",
   "execution_count": 6,
   "metadata": {
    "collapsed": false
   },
   "outputs": [],
   "source": [
    "train = activity(train)\n",
    "test = activity(test)"
   ]
  },
  {
   "cell_type": "code",
   "execution_count": 7,
   "metadata": {
    "collapsed": false
   },
   "outputs": [],
   "source": [
    "train = train.sort_values(by='people_id')\n",
    "test = test.sort_values(by='people_id')\n",
    "people = people.sort_values(by='people_id')"
   ]
  },
  {
   "cell_type": "code",
   "execution_count": 8,
   "metadata": {
    "collapsed": true
   },
   "outputs": [],
   "source": [
    "people['newcol']=0\n",
    "people.ix[150570:,'newcol'] = 1\n",
    "train = train.merge(people, on='people_id',how='left')\n",
    "test = test.merge(people,on='people_id',how='left')\n",
    "y = train['outcome']"
   ]
  },
  {
   "cell_type": "markdown",
   "metadata": {},
   "source": [
    "# Reduce Dimensions for One-Hot-Encoding and  Label Encoding"
   ]
  },
  {
   "cell_type": "code",
   "execution_count": 9,
   "metadata": {
    "collapsed": false
   },
   "outputs": [],
   "source": [
    "columns = list(test.columns)\n",
    "whole = pd.concat([train[columns],test])"
   ]
  },
  {
   "cell_type": "code",
   "execution_count": 10,
   "metadata": {
    "collapsed": true
   },
   "outputs": [],
   "source": [
    "categorical=['group_1','activity_category','char_1','char_2_x','char_3_x','char_4_x','char_5_x','char_6_x','char_7_x','char_8_x',\n",
    "             'char_9_x','char_2_y','char_3_y','char_4_y','char_5_y','char_6_y','char_7_y','char_8_y','char_9_y']"
   ]
  },
  {
   "cell_type": "code",
   "execution_count": 11,
   "metadata": {
    "collapsed": true
   },
   "outputs": [],
   "source": [
    "def reduce_dimen(dataset,column,toreplace):\n",
    "    for index, i in dataset[column].duplicated(keep=False).iteritems():\n",
    "        if i==False:\n",
    "            dataset.set_value(index,column,toreplace)\n",
    "    return dataset"
   ]
  },
  {
   "cell_type": "code",
   "execution_count": 56,
   "metadata": {
    "collapsed": false
   },
   "outputs": [],
   "source": [
    "for category in categorical:\n",
    "    whole=reduce_dimen(whole,category,9999999)"
   ]
  },
  {
   "cell_type": "code",
   "execution_count": 13,
   "metadata": {
    "collapsed": true
   },
   "outputs": [],
   "source": [
    "for category in categorical:\n",
    "    le = LabelEncoder().fit(whole[category])\n",
    "    whole[category] = le.transform(whole[category])"
   ]
  },
  {
   "cell_type": "markdown",
   "metadata": {},
   "source": [
    "# Doing a LabelKFold Using People ID"
   ]
  },
  {
   "cell_type": "code",
   "execution_count": 14,
   "metadata": {
    "collapsed": true
   },
   "outputs": [],
   "source": [
    "from sklearn.cross_validation import LabelKFold"
   ]
  },
  {
   "cell_type": "code",
   "execution_count": 15,
   "metadata": {
    "collapsed": false
   },
   "outputs": [],
   "source": [
    "labels = train['people_id']\n",
    "def score(clf,Xtrain,y):\n",
    "    scores =[]\n",
    "    labelkfold = LabelKFold(labels,n_folds=5)\n",
    "    pred = np.zeros((y.shape[0],2))\n",
    "    for itrain, itest in labelkfold:\n",
    "        Xtr, Xte = Xtrain[itrain, :], Xtrain[itest, :]\n",
    "        ytr, yte = y[itrain], y[itest]\n",
    "        clf.fit(Xtr, ytr)\n",
    "        pred[itest,:] = clf.predict_proba(Xte)        \n",
    "        # Downsize to one fold only for kernels\n",
    "        rocscore = roc_auc_score(yte, pred[itest, :][:,1])\n",
    "        scores.append(rocscore)\n",
    "    return sum(scores) / float(len(scores))"
   ]
  },
  {
   "cell_type": "markdown",
   "metadata": {},
   "source": [
    "# One-Hot-Encoding Original Categorical Features"
   ]
  },
  {
   "cell_type": "code",
   "execution_count": 16,
   "metadata": {
    "collapsed": true
   },
   "outputs": [],
   "source": [
    "enc = OneHotEncoder(handle_unknown='ignore')\n",
    "enc =enc.fit(whole[categorical])"
   ]
  },
  {
   "cell_type": "code",
   "execution_count": 59,
   "metadata": {
    "collapsed": true
   },
   "outputs": [],
   "source": [
    "train = whole.iloc[:2197291]\n",
    "test = whole.iloc[2197291:]"
   ]
  },
  {
   "cell_type": "code",
   "execution_count": 18,
   "metadata": {
    "collapsed": false
   },
   "outputs": [],
   "source": [
    "train_sparse = enc.transform(train[categorical])\n",
    "test_sparse = enc.transform(test[categorical])"
   ]
  },
  {
   "cell_type": "code",
   "execution_count": 185,
   "metadata": {
    "collapsed": true
   },
   "outputs": [],
   "source": [
    "logreg = LogisticRegression(solver='sag')"
   ]
  },
  {
   "cell_type": "code",
   "execution_count": 41,
   "metadata": {
    "collapsed": false
   },
   "outputs": [
    {
     "data": {
      "text/plain": [
       "0.97368368536209027"
      ]
     },
     "execution_count": 41,
     "metadata": {},
     "output_type": "execute_result"
    }
   ],
   "source": [
    "score(logreg,train_sparse,y)"
   ]
  },
  {
   "cell_type": "markdown",
   "metadata": {},
   "source": [
    "# Adding Non-Categorical Original Features"
   ]
  },
  {
   "cell_type": "code",
   "execution_count": 20,
   "metadata": {
    "collapsed": false
   },
   "outputs": [],
   "source": [
    "not_categorical = []\n",
    "for category in train.columns:\n",
    "    if category not in categorical:\n",
    "        not_categorical.append(category)"
   ]
  },
  {
   "cell_type": "code",
   "execution_count": 21,
   "metadata": {
    "collapsed": false
   },
   "outputs": [],
   "source": [
    "toremove = ['people_id','activity_id','date_x','date_y','char_38','newcol']\n",
    "for char in toremove:\n",
    "    not_categorical.remove(char)"
   ]
  },
  {
   "cell_type": "code",
   "execution_count": 54,
   "metadata": {
    "collapsed": false
   },
   "outputs": [],
   "source": [
    "Xtrain = hstack((train_sparse, train[not_categorical]),format='csr')\n",
    "Xtest = hstack((test_sparse, test[not_categorical]),format='csr')"
   ]
  },
  {
   "cell_type": "code",
   "execution_count": 55,
   "metadata": {
    "collapsed": false
   },
   "outputs": [
    {
     "data": {
      "text/plain": [
       "0.97369281076812175"
      ]
     },
     "execution_count": 55,
     "metadata": {},
     "output_type": "execute_result"
    }
   ],
   "source": [
    "score(logreg,Xtrain,y)"
   ]
  },
  {
   "cell_type": "markdown",
   "metadata": {},
   "source": [
    "# Looking at High Correlation Non-Categorical Original Features"
   ]
  },
  {
   "cell_type": "code",
   "execution_count": 22,
   "metadata": {
    "collapsed": true
   },
   "outputs": [],
   "source": [
    "trainwithoutcome = train.join(y)\n",
    "trainwithoutcome.drop('newcol',1,inplace=True)"
   ]
  },
  {
   "cell_type": "code",
   "execution_count": 23,
   "metadata": {
    "collapsed": false
   },
   "outputs": [],
   "source": [
    "correlation =dict()\n",
    "for char in not_categorical:\n",
    "    correlation[char] = np.corrcoef(trainwithoutcome[[char,'outcome']].T)[0,1]"
   ]
  },
  {
   "cell_type": "code",
   "execution_count": 24,
   "metadata": {
    "collapsed": false
   },
   "outputs": [
    {
     "data": {
      "text/html": [
       "<div>\n",
       "<table border=\"1\" class=\"dataframe\">\n",
       "  <thead>\n",
       "    <tr style=\"text-align: right;\">\n",
       "      <th></th>\n",
       "      <th>feature</th>\n",
       "      <th>corr</th>\n",
       "    </tr>\n",
       "  </thead>\n",
       "  <tbody>\n",
       "    <tr>\n",
       "      <th>0</th>\n",
       "      <td>char_19</td>\n",
       "      <td>0.279465</td>\n",
       "    </tr>\n",
       "    <tr>\n",
       "      <th>1</th>\n",
       "      <td>char_18</td>\n",
       "      <td>0.211444</td>\n",
       "    </tr>\n",
       "    <tr>\n",
       "      <th>2</th>\n",
       "      <td>char_31</td>\n",
       "      <td>0.253803</td>\n",
       "    </tr>\n",
       "    <tr>\n",
       "      <th>3</th>\n",
       "      <td>char_30</td>\n",
       "      <td>0.210634</td>\n",
       "    </tr>\n",
       "    <tr>\n",
       "      <th>4</th>\n",
       "      <td>char_15</td>\n",
       "      <td>0.263966</td>\n",
       "    </tr>\n",
       "  </tbody>\n",
       "</table>\n",
       "</div>"
      ],
      "text/plain": [
       "   feature      corr\n",
       "0  char_19  0.279465\n",
       "1  char_18  0.211444\n",
       "2  char_31  0.253803\n",
       "3  char_30  0.210634\n",
       "4  char_15  0.263966"
      ]
     },
     "execution_count": 24,
     "metadata": {},
     "output_type": "execute_result"
    }
   ],
   "source": [
    "correlation = pd.DataFrame(correlation.items())\n",
    "correlation.columns = ['feature','corr']\n",
    "correlation.head()"
   ]
  },
  {
   "cell_type": "code",
   "execution_count": 25,
   "metadata": {
    "collapsed": false
   },
   "outputs": [],
   "source": [
    "correlation = correlation.sort_values(by='corr', ascending=False)"
   ]
  },
  {
   "cell_type": "code",
   "execution_count": 26,
   "metadata": {
    "collapsed": true
   },
   "outputs": [],
   "source": [
    "highcorrnoncat = list(correlation['feature'][:5])"
   ]
  },
  {
   "cell_type": "code",
   "execution_count": 89,
   "metadata": {
    "collapsed": false
   },
   "outputs": [],
   "source": [
    "Xtrain = hstack((train_sparse, train[highcorrnoncat]),format='csr')\n",
    "Xtest = hstack((test_sparse, test[highcorrnoncat]),format='csr')"
   ]
  },
  {
   "cell_type": "code",
   "execution_count": 90,
   "metadata": {
    "collapsed": false
   },
   "outputs": [
    {
     "data": {
      "text/plain": [
       "0.97376969836905825"
      ]
     },
     "execution_count": 90,
     "metadata": {},
     "output_type": "execute_result"
    }
   ],
   "source": [
    "score(logreg,Xtrain,y)"
   ]
  },
  {
   "cell_type": "markdown",
   "metadata": {},
   "source": [
    "# Looking at High Correlation Categorical Features"
   ]
  },
  {
   "cell_type": "code",
   "execution_count": 127,
   "metadata": {
    "collapsed": true
   },
   "outputs": [],
   "source": [
    "correlation2 =dict()\n",
    "for char in categorical:\n",
    "    correlation2[char] = np.corrcoef(trainwithoutcome[[char,'outcome']].T)[0,1]"
   ]
  },
  {
   "cell_type": "code",
   "execution_count": 128,
   "metadata": {
    "collapsed": false
   },
   "outputs": [
    {
     "data": {
      "text/html": [
       "<div>\n",
       "<table border=\"1\" class=\"dataframe\">\n",
       "  <thead>\n",
       "    <tr style=\"text-align: right;\">\n",
       "      <th></th>\n",
       "      <th>feature</th>\n",
       "      <th>corr</th>\n",
       "    </tr>\n",
       "  </thead>\n",
       "  <tbody>\n",
       "    <tr>\n",
       "      <th>0</th>\n",
       "      <td>group_1</td>\n",
       "      <td>0.366091</td>\n",
       "    </tr>\n",
       "    <tr>\n",
       "      <th>1</th>\n",
       "      <td>char_3_x</td>\n",
       "      <td>-0.012976</td>\n",
       "    </tr>\n",
       "    <tr>\n",
       "      <th>2</th>\n",
       "      <td>char_2_y</td>\n",
       "      <td>0.351574</td>\n",
       "    </tr>\n",
       "    <tr>\n",
       "      <th>3</th>\n",
       "      <td>char_4_x</td>\n",
       "      <td>-0.016641</td>\n",
       "    </tr>\n",
       "    <tr>\n",
       "      <th>4</th>\n",
       "      <td>char_4_y</td>\n",
       "      <td>0.003123</td>\n",
       "    </tr>\n",
       "  </tbody>\n",
       "</table>\n",
       "</div>"
      ],
      "text/plain": [
       "    feature      corr\n",
       "0   group_1  0.366091\n",
       "1  char_3_x -0.012976\n",
       "2  char_2_y  0.351574\n",
       "3  char_4_x -0.016641\n",
       "4  char_4_y  0.003123"
      ]
     },
     "execution_count": 128,
     "metadata": {},
     "output_type": "execute_result"
    }
   ],
   "source": [
    "correlation2 = pd.DataFrame(correlation2.items())\n",
    "correlation2.columns = ['feature','corr']\n",
    "correlation2.head()"
   ]
  },
  {
   "cell_type": "code",
   "execution_count": 129,
   "metadata": {
    "collapsed": false
   },
   "outputs": [],
   "source": [
    "correlation2 = correlation2.sort_values('corr',ascending=False)\n",
    "highcorrcat = list(correlation2['feature'][:5])"
   ]
  },
  {
   "cell_type": "code",
   "execution_count": 96,
   "metadata": {
    "collapsed": true
   },
   "outputs": [],
   "source": [
    "enc2 = OneHotEncoder(handle_unknown='ignore')\n",
    "enc2 =enc.fit(whole[highcorrcat])"
   ]
  },
  {
   "cell_type": "code",
   "execution_count": 97,
   "metadata": {
    "collapsed": true
   },
   "outputs": [],
   "source": [
    "train_sparse2 = enc.transform(train[highcorrcat])\n",
    "test_sparse2 = enc.transform(test[highcorrcat])"
   ]
  },
  {
   "cell_type": "code",
   "execution_count": 98,
   "metadata": {
    "collapsed": false
   },
   "outputs": [],
   "source": [
    "Xtrain = hstack((train_sparse2, train[highcorrnoncat]),format='csr')\n",
    "Xtest = hstack((test_sparse2, test[highcorrnoncat]),format='csr')"
   ]
  },
  {
   "cell_type": "code",
   "execution_count": 99,
   "metadata": {
    "collapsed": false
   },
   "outputs": [
    {
     "name": "stderr",
     "output_type": "stream",
     "text": [
      "C:\\Users\\Jenny\\Anaconda2\\lib\\site-packages\\sklearn\\linear_model\\sag.py:267: ConvergenceWarning: The max_iter was reached which means the coef_ did not converge\n",
      "  \"the coef_ did not converge\", ConvergenceWarning)\n"
     ]
    },
    {
     "data": {
      "text/plain": [
       "0.97373191330553843"
      ]
     },
     "execution_count": 99,
     "metadata": {},
     "output_type": "execute_result"
    }
   ],
   "source": [
    "score(logreg,Xtrain,y)"
   ]
  },
  {
   "cell_type": "code",
   "execution_count": 100,
   "metadata": {
    "collapsed": false
   },
   "outputs": [
    {
     "name": "stdout",
     "output_type": "stream",
     "text": [
      "After the results, we will continue to use the original categorical features and the high correlation non-categorical ones\n"
     ]
    }
   ],
   "source": [
    "print 'After the results, we will continue to use the original categorical features and the high correlation non-categorical ones'"
   ]
  },
  {
   "cell_type": "markdown",
   "metadata": {},
   "source": [
    "# Adding Standardized char_38 to the mix"
   ]
  },
  {
   "cell_type": "code",
   "execution_count": 27,
   "metadata": {
    "collapsed": false
   },
   "outputs": [
    {
     "name": "stderr",
     "output_type": "stream",
     "text": [
      "C:\\Users\\Jenny\\Anaconda2\\lib\\site-packages\\sklearn\\utils\\validation.py:420: DataConversionWarning: Data with input dtype int32 was converted to float64 by StandardScaler.\n",
      "  warnings.warn(msg, DataConversionWarning)\n",
      "C:\\Users\\Jenny\\Anaconda2\\lib\\site-packages\\sklearn\\utils\\validation.py:420: DataConversionWarning: Data with input dtype int32 was converted to float64 by StandardScaler.\n",
      "  warnings.warn(msg, DataConversionWarning)\n"
     ]
    }
   ],
   "source": [
    "stdscaler = StandardScaler()\n",
    "char38 = stdscaler.fit_transform(whole['char_38'].reshape(-1,1))\n",
    "char38 = pd.DataFrame(char38)"
   ]
  },
  {
   "cell_type": "code",
   "execution_count": 28,
   "metadata": {
    "collapsed": false
   },
   "outputs": [],
   "source": [
    "trainchar38 = char38[:2197291]\n",
    "testchar38 = char38[2197291:]"
   ]
  },
  {
   "cell_type": "code",
   "execution_count": 104,
   "metadata": {
    "collapsed": true
   },
   "outputs": [],
   "source": [
    "Xtrain = hstack((train_sparse, train[highcorrnoncat],trainchar38),format='csr')\n",
    "Xtest = hstack((test_sparse, test[highcorrnoncat],testchar38),format='csr')"
   ]
  },
  {
   "cell_type": "code",
   "execution_count": 105,
   "metadata": {
    "collapsed": false
   },
   "outputs": [
    {
     "data": {
      "text/plain": [
       "0.97715652872986214"
      ]
     },
     "execution_count": 105,
     "metadata": {},
     "output_type": "execute_result"
    }
   ],
   "source": [
    "score(logreg,Xtrain,y)"
   ]
  },
  {
   "cell_type": "markdown",
   "metadata": {},
   "source": [
    "# Feature Engineering 1 - Standardized Count of Activity per Group/Person"
   ]
  },
  {
   "cell_type": "markdown",
   "metadata": {},
   "source": [
    "Count of Activity per Group"
   ]
  },
  {
   "cell_type": "code",
   "execution_count": 29,
   "metadata": {
    "collapsed": false
   },
   "outputs": [],
   "source": [
    "actcount = train.groupby('group_1')['activity_category'].count().reset_index()\n",
    "actcount.columns = ['group_1','actcount']\n",
    "actcounttrain = pd.DataFrame(train.merge(actcount, on = 'group_1', how='left' )['actcount'].reset_index(drop=True))"
   ]
  },
  {
   "cell_type": "code",
   "execution_count": 30,
   "metadata": {
    "collapsed": true
   },
   "outputs": [],
   "source": [
    "actcounttest = test.groupby('group_1')['activity_category'].size().reset_index()\n",
    "actcounttest.columns = ['group_1','actcount']\n",
    "actcounttest = pd.DataFrame(test.merge(actcounttest, on='group_1', how='left')['actcount'].reset_index(drop=True))"
   ]
  },
  {
   "cell_type": "code",
   "execution_count": 102,
   "metadata": {
    "collapsed": false
   },
   "outputs": [],
   "source": [
    "stdscaler = StandardScaler()\n",
    "actcounttrain = pd.DataFrame(stdscaler.fit_transform(actcounttrain['actcount'].astype('float').reshape(-1,1)))\n",
    "stdscaler = StandardScaler()\n",
    "actcounttest = pd.DataFrame(stdscaler.fit_transform(actcounttest['actcount'].astype('float').reshape(-1,1)))"
   ]
  },
  {
   "cell_type": "markdown",
   "metadata": {},
   "source": [
    "Count of Activity per Person"
   ]
  },
  {
   "cell_type": "code",
   "execution_count": 104,
   "metadata": {
    "collapsed": false
   },
   "outputs": [],
   "source": [
    "actcountppl = train.groupby('people_id')['activity_category'].count().reset_index()\n",
    "actcountppl.columns = ['people_id','actcount']\n",
    "actcountppl = pd.DataFrame(train.merge(actcountppl, on = 'people_id', how='left' )['actcount'].reset_index(drop=True))"
   ]
  },
  {
   "cell_type": "code",
   "execution_count": 105,
   "metadata": {
    "collapsed": false
   },
   "outputs": [],
   "source": [
    "actcountppltest = test.groupby('people_id')['activity_category'].count().reset_index()\n",
    "actcountppltest.columns = ['people_id','actcount']\n",
    "actcountppltest = pd.DataFrame(test.merge(actcountppltest, on = 'people_id', how='left' )['actcount'].reset_index(drop=True))"
   ]
  },
  {
   "cell_type": "code",
   "execution_count": 106,
   "metadata": {
    "collapsed": false
   },
   "outputs": [],
   "source": [
    "stdscaler = StandardScaler()\n",
    "actcountppl = pd.DataFrame(stdscaler.fit_transform(actcountppl['actcount'].astype('float').reshape(-1,1)))\n",
    "stdscaler = StandardScaler()\n",
    "actcountppltest = pd.DataFrame(stdscaler.fit_transform(actcountppltest['actcount'].astype('float').reshape(-1,1)))"
   ]
  },
  {
   "cell_type": "code",
   "execution_count": 142,
   "metadata": {
    "collapsed": false
   },
   "outputs": [],
   "source": [
    "traincountppl = actppl.iloc[:2197291]\n",
    "testcountppl = actppl.iloc[2197291:]"
   ]
  },
  {
   "cell_type": "code",
   "execution_count": 144,
   "metadata": {
    "collapsed": true
   },
   "outputs": [],
   "source": [
    "Xtrain = hstack((train_sparse, train[highcorrnoncat],trainchar38,actcounttrain,actcountppl),format='csr')\n",
    "Xtest = hstack((test_sparse, test[highcorrnoncat],testchar38,actcounttest,actcountppltest),format='csr')"
   ]
  },
  {
   "cell_type": "code",
   "execution_count": 145,
   "metadata": {
    "collapsed": false
   },
   "outputs": [
    {
     "data": {
      "text/plain": [
       "0.96547954607541508"
      ]
     },
     "execution_count": 145,
     "metadata": {},
     "output_type": "execute_result"
    }
   ],
   "source": [
    "score(logreg,Xtrain,y)"
   ]
  },
  {
   "cell_type": "code",
   "execution_count": 33,
   "metadata": {
    "collapsed": true
   },
   "outputs": [],
   "source": [
    "Xtrain = hstack((train_sparse, train[highcorrnoncat],trainchar38,actcounttrain),format='csr')\n",
    "Xtest = hstack((test_sparse, test[highcorrnoncat],testchar38,actcounttest),format='csr')"
   ]
  },
  {
   "cell_type": "code",
   "execution_count": 34,
   "metadata": {
    "collapsed": false
   },
   "outputs": [
    {
     "data": {
      "text/plain": [
       "0.97752081067684871"
      ]
     },
     "execution_count": 34,
     "metadata": {},
     "output_type": "execute_result"
    }
   ],
   "source": [
    "score(logreg,Xtrain,y)"
   ]
  },
  {
   "cell_type": "markdown",
   "metadata": {},
   "source": [
    "# Feature Engineering 2 - Standardized Count of People per Group"
   ]
  },
  {
   "cell_type": "code",
   "execution_count": 72,
   "metadata": {
    "collapsed": false
   },
   "outputs": [],
   "source": [
    "ppltrain = pd.DataFrame(train.groupby(['group_1','people_id'])['activity_category'].count().reset_index().groupby(['group_1'])['people_id'].count())\n",
    "ppltrain = ppltrain.reset_index()\n",
    "ppltrain.columns = ['group_1','pplcount']\n",
    "ppltrain = pd.DataFrame(train.merge(ppltrain, on = 'group_1', how='left' )['pplcount'].reset_index(drop=True))"
   ]
  },
  {
   "cell_type": "code",
   "execution_count": 73,
   "metadata": {
    "collapsed": true
   },
   "outputs": [],
   "source": [
    "ppltest = pd.DataFrame(test.groupby(['group_1','people_id'])['activity_category'].count().reset_index().groupby(['group_1'])['people_id'].count())\n",
    "ppltest = ppltest.reset_index()\n",
    "ppltest.columns = ['group_1','pplcount']\n",
    "ppltest = pd.DataFrame(test.merge(ppltest, on = 'group_1', how='left' )['pplcount'].reset_index(drop=True))"
   ]
  },
  {
   "cell_type": "code",
   "execution_count": 75,
   "metadata": {
    "collapsed": false
   },
   "outputs": [
    {
     "name": "stderr",
     "output_type": "stream",
     "text": [
      "C:\\Users\\Jenny\\Anaconda2\\lib\\site-packages\\sklearn\\utils\\validation.py:420: DataConversionWarning: Data with input dtype int64 was converted to float64 by StandardScaler.\n",
      "  warnings.warn(msg, DataConversionWarning)\n",
      "C:\\Users\\Jenny\\Anaconda2\\lib\\site-packages\\sklearn\\utils\\validation.py:420: DataConversionWarning: Data with input dtype int64 was converted to float64 by StandardScaler.\n",
      "  warnings.warn(msg, DataConversionWarning)\n",
      "C:\\Users\\Jenny\\Anaconda2\\lib\\site-packages\\sklearn\\utils\\validation.py:420: DataConversionWarning: Data with input dtype int64 was converted to float64 by StandardScaler.\n",
      "  warnings.warn(msg, DataConversionWarning)\n",
      "C:\\Users\\Jenny\\Anaconda2\\lib\\site-packages\\sklearn\\utils\\validation.py:420: DataConversionWarning: Data with input dtype int64 was converted to float64 by StandardScaler.\n",
      "  warnings.warn(msg, DataConversionWarning)\n"
     ]
    }
   ],
   "source": [
    "stdscaler = StandardScaler()\n",
    "ppltrain = pd.DataFrame(stdscaler.fit_transform(ppltrain['pplcount'].reshape(-1,1)))\n",
    "stdscaler = StandardScaler()\n",
    "ppltest = pd.DataFrame(stdscaler.fit_transform(ppltest['pplcount'].reshape(-1,1)))"
   ]
  },
  {
   "cell_type": "code",
   "execution_count": 76,
   "metadata": {
    "collapsed": false
   },
   "outputs": [],
   "source": [
    "Xtrain = hstack((train_sparse, train[highcorrnoncat],trainchar38,actcounttrain, ppltrain),format='csr')\n",
    "Xtest = hstack((test_sparse, test[highcorrnoncat],testchar38,actcounttest, ppltest),format='csr')"
   ]
  },
  {
   "cell_type": "code",
   "execution_count": 77,
   "metadata": {
    "collapsed": false
   },
   "outputs": [
    {
     "data": {
      "text/plain": [
       "0.9773567060967393"
      ]
     },
     "execution_count": 77,
     "metadata": {},
     "output_type": "execute_result"
    }
   ],
   "source": [
    "score(logreg,Xtrain,y)"
   ]
  },
  {
   "cell_type": "markdown",
   "metadata": {
    "collapsed": true
   },
   "source": [
    "# Feature Engineering 3  - Range of Days per Group/Person"
   ]
  },
  {
   "cell_type": "markdown",
   "metadata": {},
   "source": [
    "Range of Days per Group"
   ]
  },
  {
   "cell_type": "code",
   "execution_count": 81,
   "metadata": {
    "collapsed": true
   },
   "outputs": [],
   "source": [
    "def maxmin(x):\n",
    "    maxdate = x['date_x'].max()\n",
    "    mindate = x['date_x'].min()\n",
    "    return maxdate-mindate"
   ]
  },
  {
   "cell_type": "code",
   "execution_count": 84,
   "metadata": {
    "collapsed": false
   },
   "outputs": [],
   "source": [
    "dayspergrp = pd.DataFrame(train.groupby('group_1').apply(maxmin))\n",
    "dayspergrp.columns = ['dayspergrp']\n",
    "dayspergrp = pd.DataFrame(dayspergrp['dayspergrp'].astype(np.str))\n",
    "dayspergrp['dayspergrp'] = [d.split()[0] for d in dayspergrp['dayspergrp']]\n",
    "dayspergrp = pd.DataFrame(train.merge(dayspergrp.reset_index(), on='group_1', how='left')['dayspergrp'].reset_index(drop=True))"
   ]
  },
  {
   "cell_type": "code",
   "execution_count": 89,
   "metadata": {
    "collapsed": false
   },
   "outputs": [],
   "source": [
    "dayspergrptest = pd.DataFrame(test.groupby('group_1').apply(maxmin))\n",
    "dayspergrptest.columns = ['dayspergrp']\n",
    "dayspergrptest = pd.DataFrame(dayspergrptest['dayspergrp'].astype(np.str))\n",
    "dayspergrptest['dayspergrp'] = [d.split()[0] for d in dayspergrptest['dayspergrp']]\n",
    "dayspergrptest = pd.DataFrame(test.merge(dayspergrptest.reset_index(), on='group_1', how='left')['dayspergrp'].reset_index(drop=True))"
   ]
  },
  {
   "cell_type": "code",
   "execution_count": 97,
   "metadata": {
    "collapsed": false
   },
   "outputs": [],
   "source": [
    "stdscaler = StandardScaler()\n",
    "dayspergrp = pd.DataFrame(stdscaler.fit_transform(dayspergrp[0].astype('float').reshape(-1,1)))\n",
    "stdscaler = StandardScaler()\n",
    "dayspergrptest = pd.DataFrame(stdscaler.fit_transform(dayspergrptest['dayspergrp'].astype('float').reshape(-1,1)))"
   ]
  },
  {
   "cell_type": "code",
   "execution_count": 100,
   "metadata": {
    "collapsed": false
   },
   "outputs": [],
   "source": [
    "Xtrain = hstack((train_sparse, train[highcorrnoncat],trainchar38,actcounttrain, dayspergrp),format='csr')\n",
    "Xtest = hstack((test_sparse, test[highcorrnoncat],testchar38,actcounttest,dayspergrptest),format='csr')"
   ]
  },
  {
   "cell_type": "code",
   "execution_count": 101,
   "metadata": {
    "collapsed": false
   },
   "outputs": [
    {
     "data": {
      "text/plain": [
       "0.97367583812876313"
      ]
     },
     "execution_count": 101,
     "metadata": {},
     "output_type": "execute_result"
    }
   ],
   "source": [
    "score(logreg,Xtrain,y)"
   ]
  },
  {
   "cell_type": "markdown",
   "metadata": {},
   "source": [
    "Range of Days per Person"
   ]
  },
  {
   "cell_type": "code",
   "execution_count": 108,
   "metadata": {
    "collapsed": false
   },
   "outputs": [],
   "source": [
    "daysperppl = pd.DataFrame(train.groupby('people_id').apply(maxmin))\n",
    "daysperppl.columns = ['daysperppl']\n",
    "daysperppl = pd.DataFrame(daysperppl['daysperppl'].astype(np.str))\n",
    "daysperppl['daysperppl'] = [d.split()[0] for d in daysperppl['daysperppl']]\n",
    "daysperppl = pd.DataFrame(train.merge(daysperppl.reset_index(), on='people_id', how='left')['daysperppl'].reset_index(drop=True))"
   ]
  },
  {
   "cell_type": "code",
   "execution_count": 109,
   "metadata": {
    "collapsed": true
   },
   "outputs": [],
   "source": [
    "daysperppltest = pd.DataFrame(test.groupby('people_id').apply(maxmin))\n",
    "daysperppltest.columns = ['daysperppl']\n",
    "daysperppltest = pd.DataFrame(daysperppltest['daysperppl'].astype(np.str))\n",
    "daysperppltest['daysperppl'] = [d.split()[0] for d in daysperppltest['daysperppl']]\n",
    "daysperppltest = pd.DataFrame(test.merge(daysperppltest.reset_index(), on='people_id', how='left')['daysperppl'].reset_index(drop=True))"
   ]
  },
  {
   "cell_type": "code",
   "execution_count": 112,
   "metadata": {
    "collapsed": true
   },
   "outputs": [],
   "source": [
    "stdscaler = StandardScaler()\n",
    "daysperppl = pd.DataFrame(stdscaler.fit_transform(daysperppl['daysperppl'].astype('float').reshape(-1,1)))\n",
    "stdscaler = StandardScaler()\n",
    "daysperppltest = pd.DataFrame(stdscaler.fit_transform(daysperppltest['daysperppl'].astype('float').reshape(-1,1)))"
   ]
  },
  {
   "cell_type": "code",
   "execution_count": 113,
   "metadata": {
    "collapsed": false
   },
   "outputs": [],
   "source": [
    "Xtrain = hstack((train_sparse, train[highcorrnoncat],trainchar38,actcounttrain,daysperppl),format='csr')\n",
    "Xtest = hstack((test_sparse, test[highcorrnoncat],testchar38,actcounttest,daysperppltest),format='csr')"
   ]
  },
  {
   "cell_type": "code",
   "execution_count": 114,
   "metadata": {
    "collapsed": false
   },
   "outputs": [
    {
     "data": {
      "text/plain": [
       "0.97779183496628974"
      ]
     },
     "execution_count": 114,
     "metadata": {},
     "output_type": "execute_result"
    }
   ],
   "source": [
    "score(logreg,Xtrain,y)"
   ]
  },
  {
   "cell_type": "markdown",
   "metadata": {},
   "source": [
    "# Feature Engineering 4 - Leave One Out Categorical Variables"
   ]
  },
  {
   "cell_type": "code",
   "execution_count": 126,
   "metadata": {
    "collapsed": false
   },
   "outputs": [
    {
     "name": "stdout",
     "output_type": "stream",
     "text": [
      "\n"
     ]
    }
   ],
   "source": [
    "def LeaveOneOut(data1, data2, columnName, useLOO=False):\n",
    "    grpOutcomes = data1.groupby(columnName)['outcome'].mean().reset_index()\n",
    "    grpCount = data1.groupby(columnName)['outcome'].count().reset_index()\n",
    "    grpOutcomes['cnt'] = grpCount.outcome\n",
    "    grpOutcomes = grpOutcomes[grpOutcomes.cnt > 39]\n",
    "    grpOutcomes.drop('cnt', inplace=True, axis=1)\n",
    "    outcomes = data2['outcome'].values\n",
    "    x = pd.merge(data2[[columnName, 'outcome']], grpOutcomes,\n",
    "                 suffixes=('x_', ''),\n",
    "                 how='left',\n",
    "                 on=columnName,\n",
    "                 left_index=True)['outcome']\n",
    "    if(useLOO):\n",
    "        x = ((x*x.shape[0])-outcomes)/(x.shape[0]-1)\n",
    "        x = x + np.random.normal(0, .05, x.shape[0])\n",
    "    return x.fillna(x.mean())"
   ]
  },
  {
   "cell_type": "code",
   "execution_count": 133,
   "metadata": {
    "collapsed": true
   },
   "outputs": [],
   "source": [
    "LOOtrain = trainwithoutcome[['char_38','group_1','char_2_y','char_13','char_36','outcome']]"
   ]
  },
  {
   "cell_type": "code",
   "execution_count": 134,
   "metadata": {
    "collapsed": true
   },
   "outputs": [],
   "source": [
    "lootrain = pd.DataFrame()\n",
    "for col in LOOtrain.columns:\n",
    "        if col != 'outcome':\n",
    "            lootrain[col] = LeaveOneOut(LOOtrain, LOOtrain, col, True).values"
   ]
  },
  {
   "cell_type": "code",
   "execution_count": 136,
   "metadata": {
    "collapsed": false
   },
   "outputs": [
    {
     "name": "stderr",
     "output_type": "stream",
     "text": [
      "C:\\Users\\Jenny\\Anaconda2\\lib\\site-packages\\ipykernel\\__main__.py:2: SettingWithCopyWarning: \n",
      "A value is trying to be set on a copy of a slice from a DataFrame.\n",
      "Try using .loc[row_indexer,col_indexer] = value instead\n",
      "\n",
      "See the caveats in the documentation: http://pandas.pydata.org/pandas-docs/stable/indexing.html#indexing-view-versus-copy\n",
      "  from ipykernel import kernelapp as app\n"
     ]
    }
   ],
   "source": [
    "LOOtest = test[['char_38','group_1','char_2_y','char_13','char_36']]\n",
    "LOOtest['outcome'] =0\n",
    "lootest = pd.DataFrame()\n",
    "for col in LOOtrain.columns:\n",
    "    if col != 'outcome':\n",
    "        lootest[col] = LeaveOneOut(LOOtrain, LOOtest, col, False).values"
   ]
  },
  {
   "cell_type": "code",
   "execution_count": 138,
   "metadata": {
    "collapsed": false
   },
   "outputs": [],
   "source": [
    "Xtrain = hstack((train_sparse, train[highcorrnoncat],trainchar38,actcounttrain,daysperppl,lootrain),format='csr')\n",
    "Xtest = hstack((test_sparse, test[highcorrnoncat],testchar38,actcounttest,daysperppltest,lootest),format='csr')"
   ]
  },
  {
   "cell_type": "code",
   "execution_count": 139,
   "metadata": {
    "collapsed": false
   },
   "outputs": [
    {
     "name": "stderr",
     "output_type": "stream",
     "text": [
      "C:\\Users\\Jenny\\Anaconda2\\lib\\site-packages\\sklearn\\linear_model\\sag.py:267: ConvergenceWarning: The max_iter was reached which means the coef_ did not converge\n",
      "  \"the coef_ did not converge\", ConvergenceWarning)\n"
     ]
    },
    {
     "data": {
      "text/plain": [
       "0.98988868937358221"
      ]
     },
     "execution_count": 139,
     "metadata": {},
     "output_type": "execute_result"
    }
   ],
   "source": [
    "score(logreg,Xtrain,y)"
   ]
  },
  {
   "cell_type": "code",
   "execution_count": 140,
   "metadata": {
    "collapsed": true
   },
   "outputs": [],
   "source": [
    "logreg2 = LogisticRegression(solver='sag',max_iter = 300)"
   ]
  },
  {
   "cell_type": "code",
   "execution_count": 141,
   "metadata": {
    "collapsed": false
   },
   "outputs": [
    {
     "data": {
      "text/plain": [
       "0.98988877731129021"
      ]
     },
     "execution_count": 141,
     "metadata": {},
     "output_type": "execute_result"
    }
   ],
   "source": [
    "score(logreg2,Xtrain,y)"
   ]
  },
  {
   "cell_type": "code",
   "execution_count": 142,
   "metadata": {
    "collapsed": true
   },
   "outputs": [],
   "source": [
    "prediction = logreg.predict_proba(Xtest)[:,1]"
   ]
  },
  {
   "cell_type": "code",
   "execution_count": 145,
   "metadata": {
    "collapsed": false
   },
   "outputs": [],
   "source": [
    "logreg = pd.DataFrame()\n",
    "logreg['activity_id'] = test['activity_id']\n",
    "logreg['outcome'] = prediction"
   ]
  },
  {
   "cell_type": "code",
   "execution_count": 152,
   "metadata": {
    "collapsed": false
   },
   "outputs": [],
   "source": [
    "logreg.to_csv('logreg.csv',index=False)"
   ]
  },
  {
   "cell_type": "markdown",
   "metadata": {},
   "source": [
    "# Feature Engineering 5 - Average of Days Interval per Group/Person"
   ]
  },
  {
   "cell_type": "markdown",
   "metadata": {},
   "source": [
    "Average of Days Interval per Person"
   ]
  },
  {
   "cell_type": "code",
   "execution_count": 119,
   "metadata": {
    "collapsed": true
   },
   "outputs": [],
   "source": [
    "def interval3(x):\n",
    "    for num in range(0, len(x)):\n",
    "        if num!=0:\n",
    "            x['datedelta'].iloc[num] = x['date_x'].iloc[num]-x['date_x'].iloc[(num-1)]\n",
    "    x['datedelta'] = x['datedelta'].astype(np.str)\n",
    "    x['datedelta'] = [d.split()[0] for d in x['datedelta']]\n",
    "    x['datedelta'] = x['datedelta'].astype(np.int)    \n",
    "    return x"
   ]
  },
  {
   "cell_type": "code",
   "execution_count": 116,
   "metadata": {
    "collapsed": true
   },
   "outputs": [],
   "source": [
    "def average(x):\n",
    "    ave = x['datedelta'].iloc[1:].mean()\n",
    "    x['average'] = ave\n",
    "    return x"
   ]
  },
  {
   "cell_type": "code",
   "execution_count": 172,
   "metadata": {
    "collapsed": false
   },
   "outputs": [
    {
     "name": "stderr",
     "output_type": "stream",
     "text": [
      "C:\\Users\\Jenny\\Anaconda2\\lib\\site-packages\\ipykernel\\__main__.py:1: SettingWithCopyWarning: \n",
      "A value is trying to be set on a copy of a slice from a DataFrame.\n",
      "Try using .loc[row_indexer,col_indexer] = value instead\n",
      "\n",
      "See the caveats in the documentation: http://pandas.pydata.org/pandas-docs/stable/indexing.html#indexing-view-versus-copy\n",
      "  if __name__ == '__main__':\n"
     ]
    }
   ],
   "source": [
    "train['datedelta']=0\n",
    "interval = train.sort_values(['people_id','date_x'])\n",
    "interval = interval.groupby('people_id').apply(interval3)"
   ]
  },
  {
   "cell_type": "code",
   "execution_count": 173,
   "metadata": {
    "collapsed": false
   },
   "outputs": [
    {
     "name": "stderr",
     "output_type": "stream",
     "text": [
      "C:\\Users\\Jenny\\Anaconda2\\lib\\site-packages\\ipykernel\\__main__.py:1: SettingWithCopyWarning: \n",
      "A value is trying to be set on a copy of a slice from a DataFrame.\n",
      "Try using .loc[row_indexer,col_indexer] = value instead\n",
      "\n",
      "See the caveats in the documentation: http://pandas.pydata.org/pandas-docs/stable/indexing.html#indexing-view-versus-copy\n",
      "  if __name__ == '__main__':\n"
     ]
    }
   ],
   "source": [
    "test['datedelta']=0\n",
    "intervaltest = test.sort_values(['people_id','date_x'])\n",
    "intervaltest = intervaltest.groupby('people_id').apply(interval3)"
   ]
  },
  {
   "cell_type": "code",
   "execution_count": 174,
   "metadata": {
    "collapsed": true
   },
   "outputs": [],
   "source": [
    "interval = interval.groupby('people_id').apply(average)"
   ]
  },
  {
   "cell_type": "code",
   "execution_count": 175,
   "metadata": {
    "collapsed": false
   },
   "outputs": [],
   "source": [
    "intervaltest = intervaltest.groupby('people_id').apply(average)"
   ]
  },
  {
   "cell_type": "code",
   "execution_count": 176,
   "metadata": {
    "collapsed": false
   },
   "outputs": [],
   "source": [
    "aveppltrain = pd.DataFrame(train.merge(interval[['activity_id','average']], on='activity_id',how='left')['average'].reset_index(drop=True))\n",
    "aveppltest = pd.DataFrame(test.merge(intervaltest[['activity_id','average']], on='activity_id',how='left')['average'].reset_index(drop=True))"
   ]
  },
  {
   "cell_type": "code",
   "execution_count": 206,
   "metadata": {
    "collapsed": false
   },
   "outputs": [],
   "source": [
    "aveppltrain.fillna(0, inplace=True)\n",
    "aveppltest.fillna(0, inplace=True)\n",
    "stdscaler = StandardScaler()\n",
    "aveppltrain = pd.DataFrame(stdscaler.fit_transform(aveppltrain['average'].astype('float').reshape(-1,1)))\n",
    "stdscaler = StandardScaler()\n",
    "aveppltest = pd.DataFrame(stdscaler.fit_transform(aveppltest['average'].astype('float').reshape(-1,1)))"
   ]
  },
  {
   "cell_type": "code",
   "execution_count": 207,
   "metadata": {
    "collapsed": false
   },
   "outputs": [],
   "source": [
    "Xtrain = hstack((train_sparse, train[highcorrnoncat],trainchar38,actcounttrain,daysperppl,lootrain, aveppltrain),format='csr')\n",
    "Xtest = hstack((test_sparse, test[highcorrnoncat],testchar38,actcounttest,daysperppltest,lootest, aveppltest),format='csr')"
   ]
  },
  {
   "cell_type": "code",
   "execution_count": 208,
   "metadata": {
    "collapsed": false
   },
   "outputs": [
    {
     "data": {
      "text/plain": [
       "0.98948179933979996"
      ]
     },
     "execution_count": 208,
     "metadata": {},
     "output_type": "execute_result"
    }
   ],
   "source": [
    "score(logreg,Xtrain,y)"
   ]
  },
  {
   "cell_type": "markdown",
   "metadata": {},
   "source": [
    "# XGB on Final Set of Features"
   ]
  },
  {
   "cell_type": "code",
   "execution_count": 209,
   "metadata": {
    "collapsed": true
   },
   "outputs": [],
   "source": [
    "Xtrain = hstack((train_sparse, train[highcorrnoncat],trainchar38,actcounttrain,daysperppl,lootrain),format='csr')\n",
    "Xtest = hstack((test_sparse, test[highcorrnoncat],testchar38,actcounttest,daysperppltest,lootest),format='csr')"
   ]
  },
  {
   "cell_type": "code",
   "execution_count": 210,
   "metadata": {
    "collapsed": true
   },
   "outputs": [],
   "source": [
    "dtrain = xgb.DMatrix(Xtrain,label=y)\n",
    "dtest = xgb.DMatrix(Xtest)"
   ]
  },
  {
   "cell_type": "code",
   "execution_count": 212,
   "metadata": {
    "collapsed": true
   },
   "outputs": [],
   "source": [
    "param = {'max_depth':11, 'eta':0.05, 'silent':1, 'objective':'binary:logistic' }\n",
    "#param['nthread'] = 4\n",
    "param['eval_metric'] = 'auc'\n",
    "param['subsample'] = 0.86\n",
    "param['colsample_bytree']= 0.92\n",
    "param['min_child_weight'] = 0\n",
    "param['booster'] = \"gbtree\"\n",
    "param['gamma'] = 0.005\n",
    "param['colsample_bylevel'] = 0.9"
   ]
  },
  {
   "cell_type": "code",
   "execution_count": 213,
   "metadata": {
    "collapsed": false
   },
   "outputs": [
    {
     "name": "stderr",
     "output_type": "stream",
     "text": [
      "Will train until train error hasn't decreased in 20 rounds.\n",
      "[0]\ttrain-auc:0.988429\n",
      "[1]\ttrain-auc:0.988727\n",
      "[2]\ttrain-auc:0.989084\n",
      "[3]\ttrain-auc:0.989174\n",
      "[4]\ttrain-auc:0.989228\n",
      "[5]\ttrain-auc:0.989291\n",
      "[6]\ttrain-auc:0.989370\n",
      "[7]\ttrain-auc:0.989295\n",
      "[8]\ttrain-auc:0.989389\n",
      "[9]\ttrain-auc:0.989485\n",
      "[10]\ttrain-auc:0.989378\n",
      "[11]\ttrain-auc:0.989390\n",
      "[12]\ttrain-auc:0.989428\n",
      "[13]\ttrain-auc:0.989524\n",
      "[14]\ttrain-auc:0.989473\n",
      "[15]\ttrain-auc:0.989522\n",
      "[16]\ttrain-auc:0.989620\n",
      "[17]\ttrain-auc:0.989652\n",
      "[18]\ttrain-auc:0.989731\n",
      "[19]\ttrain-auc:0.989764\n",
      "[20]\ttrain-auc:0.989846\n",
      "[21]\ttrain-auc:0.989895\n",
      "[22]\ttrain-auc:0.989903\n",
      "[23]\ttrain-auc:0.989933\n",
      "[24]\ttrain-auc:0.989960\n",
      "[25]\ttrain-auc:0.989992\n",
      "[26]\ttrain-auc:0.990082\n",
      "[27]\ttrain-auc:0.990100\n",
      "[28]\ttrain-auc:0.990125\n",
      "[29]\ttrain-auc:0.990151\n",
      "[30]\ttrain-auc:0.990189\n",
      "[31]\ttrain-auc:0.990191\n",
      "[32]\ttrain-auc:0.990219\n",
      "[33]\ttrain-auc:0.990248\n",
      "[34]\ttrain-auc:0.990243\n",
      "[35]\ttrain-auc:0.990272\n",
      "[36]\ttrain-auc:0.990321\n",
      "[37]\ttrain-auc:0.990312\n",
      "[38]\ttrain-auc:0.990354\n",
      "[39]\ttrain-auc:0.990377\n",
      "[40]\ttrain-auc:0.990420\n",
      "[41]\ttrain-auc:0.990436\n",
      "[42]\ttrain-auc:0.990475\n",
      "[43]\ttrain-auc:0.990484\n",
      "[44]\ttrain-auc:0.990506\n",
      "[45]\ttrain-auc:0.990522\n",
      "[46]\ttrain-auc:0.990548\n",
      "[47]\ttrain-auc:0.990564\n",
      "[48]\ttrain-auc:0.990591\n",
      "[49]\ttrain-auc:0.990609\n",
      "[50]\ttrain-auc:0.990637\n",
      "[51]\ttrain-auc:0.990658\n",
      "[52]\ttrain-auc:0.990671\n",
      "[53]\ttrain-auc:0.990687\n",
      "[54]\ttrain-auc:0.990695\n",
      "[55]\ttrain-auc:0.990716\n",
      "[56]\ttrain-auc:0.990748\n",
      "[57]\ttrain-auc:0.990771\n",
      "[58]\ttrain-auc:0.990799\n",
      "[59]\ttrain-auc:0.990895\n",
      "[60]\ttrain-auc:0.990920\n",
      "[61]\ttrain-auc:0.990938\n",
      "[62]\ttrain-auc:0.990962\n",
      "[63]\ttrain-auc:0.990981\n",
      "[64]\ttrain-auc:0.991000\n",
      "[65]\ttrain-auc:0.991017\n",
      "[66]\ttrain-auc:0.991044\n",
      "[67]\ttrain-auc:0.991071\n",
      "[68]\ttrain-auc:0.991088\n",
      "[69]\ttrain-auc:0.991104\n",
      "[70]\ttrain-auc:0.991111\n",
      "[71]\ttrain-auc:0.991144\n",
      "[72]\ttrain-auc:0.991159\n",
      "[73]\ttrain-auc:0.991167\n",
      "[74]\ttrain-auc:0.991183\n",
      "[75]\ttrain-auc:0.991204\n",
      "[76]\ttrain-auc:0.991217\n",
      "[77]\ttrain-auc:0.991225\n",
      "[78]\ttrain-auc:0.991236\n",
      "[79]\ttrain-auc:0.991242\n",
      "[80]\ttrain-auc:0.991269\n",
      "[81]\ttrain-auc:0.991289\n",
      "[82]\ttrain-auc:0.991300\n",
      "[83]\ttrain-auc:0.991302\n",
      "[84]\ttrain-auc:0.991306\n",
      "[85]\ttrain-auc:0.991313\n",
      "[86]\ttrain-auc:0.991332\n",
      "[87]\ttrain-auc:0.991347\n",
      "[88]\ttrain-auc:0.991357\n",
      "[89]\ttrain-auc:0.991363\n",
      "[90]\ttrain-auc:0.991368\n",
      "[91]\ttrain-auc:0.991379\n",
      "[92]\ttrain-auc:0.991402\n",
      "[93]\ttrain-auc:0.991405\n",
      "[94]\ttrain-auc:0.991415\n",
      "[95]\ttrain-auc:0.991425\n",
      "[96]\ttrain-auc:0.991431\n",
      "[97]\ttrain-auc:0.991437\n",
      "[98]\ttrain-auc:0.991442\n",
      "[99]\ttrain-auc:0.991458\n",
      "[100]\ttrain-auc:0.991477\n",
      "[101]\ttrain-auc:0.991489\n",
      "[102]\ttrain-auc:0.991498\n",
      "[103]\ttrain-auc:0.991501\n",
      "[104]\ttrain-auc:0.991525\n",
      "[105]\ttrain-auc:0.991530\n",
      "[106]\ttrain-auc:0.991545\n",
      "[107]\ttrain-auc:0.991568\n",
      "[108]\ttrain-auc:0.991584\n",
      "[109]\ttrain-auc:0.991593\n",
      "[110]\ttrain-auc:0.991605\n",
      "[111]\ttrain-auc:0.991612\n",
      "[112]\ttrain-auc:0.991631\n",
      "[113]\ttrain-auc:0.991637\n",
      "[114]\ttrain-auc:0.991642\n",
      "[115]\ttrain-auc:0.991657\n",
      "[116]\ttrain-auc:0.991659\n",
      "[117]\ttrain-auc:0.991669\n",
      "[118]\ttrain-auc:0.991674\n",
      "[119]\ttrain-auc:0.991678\n",
      "[120]\ttrain-auc:0.991685\n",
      "[121]\ttrain-auc:0.991695\n",
      "[122]\ttrain-auc:0.991699\n",
      "[123]\ttrain-auc:0.991707\n",
      "[124]\ttrain-auc:0.991710\n",
      "[125]\ttrain-auc:0.991715\n",
      "[126]\ttrain-auc:0.991729\n",
      "[127]\ttrain-auc:0.991737\n",
      "[128]\ttrain-auc:0.991744\n",
      "[129]\ttrain-auc:0.991750\n",
      "[130]\ttrain-auc:0.991756\n",
      "[131]\ttrain-auc:0.991765\n",
      "[132]\ttrain-auc:0.991769\n",
      "[133]\ttrain-auc:0.991773\n",
      "[134]\ttrain-auc:0.991781\n",
      "[135]\ttrain-auc:0.991792\n",
      "[136]\ttrain-auc:0.991803\n",
      "[137]\ttrain-auc:0.991807\n",
      "[138]\ttrain-auc:0.991815\n",
      "[139]\ttrain-auc:0.991820\n",
      "[140]\ttrain-auc:0.991823\n",
      "[141]\ttrain-auc:0.991826\n",
      "[142]\ttrain-auc:0.991836\n",
      "[143]\ttrain-auc:0.991839\n",
      "[144]\ttrain-auc:0.991844\n",
      "[145]\ttrain-auc:0.991847\n",
      "[146]\ttrain-auc:0.991849\n",
      "[147]\ttrain-auc:0.991853\n",
      "[148]\ttrain-auc:0.991856\n",
      "[149]\ttrain-auc:0.991858\n",
      "[150]\ttrain-auc:0.991867\n",
      "[151]\ttrain-auc:0.991882\n",
      "[152]\ttrain-auc:0.991885\n",
      "[153]\ttrain-auc:0.991888\n",
      "[154]\ttrain-auc:0.991890\n",
      "[155]\ttrain-auc:0.991893\n",
      "[156]\ttrain-auc:0.991895\n",
      "[157]\ttrain-auc:0.991897\n",
      "[158]\ttrain-auc:0.991901\n",
      "[159]\ttrain-auc:0.991904\n",
      "[160]\ttrain-auc:0.991906\n",
      "[161]\ttrain-auc:0.991909\n",
      "[162]\ttrain-auc:0.991912\n",
      "[163]\ttrain-auc:0.991915\n",
      "[164]\ttrain-auc:0.991918\n",
      "[165]\ttrain-auc:0.991919\n",
      "[166]\ttrain-auc:0.991922\n",
      "[167]\ttrain-auc:0.991926\n",
      "[168]\ttrain-auc:0.991929\n",
      "[169]\ttrain-auc:0.991932\n",
      "[170]\ttrain-auc:0.991935\n",
      "[171]\ttrain-auc:0.991937\n",
      "[172]\ttrain-auc:0.991940\n",
      "[173]\ttrain-auc:0.991942\n",
      "[174]\ttrain-auc:0.991946\n",
      "[175]\ttrain-auc:0.991949\n",
      "[176]\ttrain-auc:0.991951\n",
      "[177]\ttrain-auc:0.991954\n",
      "[178]\ttrain-auc:0.991957\n",
      "[179]\ttrain-auc:0.991959\n",
      "[180]\ttrain-auc:0.991962\n",
      "[181]\ttrain-auc:0.991964\n",
      "[182]\ttrain-auc:0.991966\n",
      "[183]\ttrain-auc:0.991969\n",
      "[184]\ttrain-auc:0.991971\n",
      "[185]\ttrain-auc:0.991974\n",
      "[186]\ttrain-auc:0.991976\n",
      "[187]\ttrain-auc:0.991979\n",
      "[188]\ttrain-auc:0.991981\n",
      "[189]\ttrain-auc:0.991983\n",
      "[190]\ttrain-auc:0.991986\n",
      "[191]\ttrain-auc:0.991988\n",
      "[192]\ttrain-auc:0.991991\n",
      "[193]\ttrain-auc:0.991993\n",
      "[194]\ttrain-auc:0.991996\n",
      "[195]\ttrain-auc:0.991998\n",
      "[196]\ttrain-auc:0.992001\n",
      "[197]\ttrain-auc:0.992004\n",
      "[198]\ttrain-auc:0.992006\n",
      "[199]\ttrain-auc:0.992009\n",
      "[200]\ttrain-auc:0.992037\n",
      "[201]\ttrain-auc:0.992040\n",
      "[202]\ttrain-auc:0.992046\n",
      "[203]\ttrain-auc:0.992048\n",
      "[204]\ttrain-auc:0.992051\n",
      "[205]\ttrain-auc:0.992053\n",
      "[206]\ttrain-auc:0.992055\n",
      "[207]\ttrain-auc:0.992057\n",
      "[208]\ttrain-auc:0.992060\n",
      "[209]\ttrain-auc:0.992063\n",
      "[210]\ttrain-auc:0.992065\n",
      "[211]\ttrain-auc:0.992067\n",
      "[212]\ttrain-auc:0.992070\n",
      "[213]\ttrain-auc:0.992072\n",
      "[214]\ttrain-auc:0.992077\n",
      "[215]\ttrain-auc:0.992082\n",
      "[216]\ttrain-auc:0.992117\n",
      "[217]\ttrain-auc:0.992120\n",
      "[218]\ttrain-auc:0.992122\n",
      "[219]\ttrain-auc:0.992125\n",
      "[220]\ttrain-auc:0.992127\n",
      "[221]\ttrain-auc:0.992130\n",
      "[222]\ttrain-auc:0.992132\n",
      "[223]\ttrain-auc:0.992134\n",
      "[224]\ttrain-auc:0.992137\n",
      "[225]\ttrain-auc:0.992139\n",
      "[226]\ttrain-auc:0.992140\n",
      "[227]\ttrain-auc:0.992154\n",
      "[228]\ttrain-auc:0.992156\n",
      "[229]\ttrain-auc:0.992159\n",
      "[230]\ttrain-auc:0.992161\n",
      "[231]\ttrain-auc:0.992163\n",
      "[232]\ttrain-auc:0.992164\n",
      "[233]\ttrain-auc:0.992167\n",
      "[234]\ttrain-auc:0.992171\n",
      "[235]\ttrain-auc:0.992173\n",
      "[236]\ttrain-auc:0.992175\n",
      "[237]\ttrain-auc:0.992177\n",
      "[238]\ttrain-auc:0.992179\n",
      "[239]\ttrain-auc:0.992182\n",
      "[240]\ttrain-auc:0.992185\n",
      "[241]\ttrain-auc:0.992187\n",
      "[242]\ttrain-auc:0.992189\n",
      "[243]\ttrain-auc:0.992191\n",
      "[244]\ttrain-auc:0.992193\n",
      "[245]\ttrain-auc:0.992195\n",
      "[246]\ttrain-auc:0.992197\n",
      "[247]\ttrain-auc:0.992199\n",
      "[248]\ttrain-auc:0.992201\n",
      "[249]\ttrain-auc:0.992203\n",
      "[250]\ttrain-auc:0.992207\n",
      "[251]\ttrain-auc:0.992209\n",
      "[252]\ttrain-auc:0.992212\n",
      "[253]\ttrain-auc:0.992214\n",
      "[254]\ttrain-auc:0.992216\n",
      "[255]\ttrain-auc:0.992221\n",
      "[256]\ttrain-auc:0.992223\n",
      "[257]\ttrain-auc:0.992226\n",
      "[258]\ttrain-auc:0.992227\n",
      "[259]\ttrain-auc:0.992229\n",
      "[260]\ttrain-auc:0.992231\n",
      "[261]\ttrain-auc:0.992234\n",
      "[262]\ttrain-auc:0.992236\n",
      "[263]\ttrain-auc:0.992238\n",
      "[264]\ttrain-auc:0.992240\n",
      "[265]\ttrain-auc:0.992243\n",
      "[266]\ttrain-auc:0.992246\n",
      "[267]\ttrain-auc:0.992247\n",
      "[268]\ttrain-auc:0.992261\n",
      "[269]\ttrain-auc:0.992263\n",
      "[270]\ttrain-auc:0.992265\n",
      "[271]\ttrain-auc:0.992267\n",
      "[272]\ttrain-auc:0.992269\n",
      "[273]\ttrain-auc:0.992271\n",
      "[274]\ttrain-auc:0.992273\n",
      "[275]\ttrain-auc:0.992280\n",
      "[276]\ttrain-auc:0.992282\n",
      "[277]\ttrain-auc:0.992284\n",
      "[278]\ttrain-auc:0.992288\n",
      "[279]\ttrain-auc:0.992290\n",
      "[280]\ttrain-auc:0.992292\n",
      "[281]\ttrain-auc:0.992294\n",
      "[282]\ttrain-auc:0.992296\n",
      "[283]\ttrain-auc:0.992298\n",
      "[284]\ttrain-auc:0.992300\n",
      "[285]\ttrain-auc:0.992302\n",
      "[286]\ttrain-auc:0.992303\n",
      "[287]\ttrain-auc:0.992305\n",
      "[288]\ttrain-auc:0.992307\n",
      "[289]\ttrain-auc:0.992311\n",
      "[290]\ttrain-auc:0.992316\n",
      "[291]\ttrain-auc:0.992318\n",
      "[292]\ttrain-auc:0.992320\n",
      "[293]\ttrain-auc:0.992322\n",
      "[294]\ttrain-auc:0.992324\n",
      "[295]\ttrain-auc:0.992326\n",
      "[296]\ttrain-auc:0.992342\n",
      "[297]\ttrain-auc:0.992344\n",
      "[298]\ttrain-auc:0.992346\n",
      "[299]\ttrain-auc:0.992348\n",
      "[300]\ttrain-auc:0.992350\n",
      "[301]\ttrain-auc:0.992352\n",
      "[302]\ttrain-auc:0.992354\n",
      "[303]\ttrain-auc:0.992356\n",
      "[304]\ttrain-auc:0.992358\n",
      "[305]\ttrain-auc:0.992361\n",
      "[306]\ttrain-auc:0.992362\n",
      "[307]\ttrain-auc:0.992364\n",
      "[308]\ttrain-auc:0.992367\n",
      "[309]\ttrain-auc:0.992369\n",
      "[310]\ttrain-auc:0.992371\n",
      "[311]\ttrain-auc:0.992373\n",
      "[312]\ttrain-auc:0.992375\n",
      "[313]\ttrain-auc:0.992377\n",
      "[314]\ttrain-auc:0.992379\n",
      "[315]\ttrain-auc:0.992380\n",
      "[316]\ttrain-auc:0.992383\n",
      "[317]\ttrain-auc:0.992384\n",
      "[318]\ttrain-auc:0.992385\n",
      "[319]\ttrain-auc:0.992388\n",
      "[320]\ttrain-auc:0.992390\n",
      "[321]\ttrain-auc:0.992392\n",
      "[322]\ttrain-auc:0.992393\n",
      "[323]\ttrain-auc:0.992397\n",
      "[324]\ttrain-auc:0.992408\n",
      "[325]\ttrain-auc:0.992411\n",
      "[326]\ttrain-auc:0.992413\n",
      "[327]\ttrain-auc:0.992424\n",
      "[328]\ttrain-auc:0.992426\n",
      "[329]\ttrain-auc:0.992427\n",
      "[330]\ttrain-auc:0.992429\n",
      "[331]\ttrain-auc:0.992431\n",
      "[332]\ttrain-auc:0.992432\n",
      "[333]\ttrain-auc:0.992434\n",
      "[334]\ttrain-auc:0.992436\n",
      "[335]\ttrain-auc:0.992438\n",
      "[336]\ttrain-auc:0.992440\n",
      "[337]\ttrain-auc:0.992442\n",
      "[338]\ttrain-auc:0.992444\n",
      "[339]\ttrain-auc:0.992446\n",
      "[340]\ttrain-auc:0.992448\n",
      "[341]\ttrain-auc:0.992453\n",
      "[342]\ttrain-auc:0.992508\n",
      "[343]\ttrain-auc:0.992510\n",
      "[344]\ttrain-auc:0.992512\n",
      "[345]\ttrain-auc:0.992514\n",
      "[346]\ttrain-auc:0.992516\n",
      "[347]\ttrain-auc:0.992518\n",
      "[348]\ttrain-auc:0.992520\n",
      "[349]\ttrain-auc:0.992535\n",
      "[350]\ttrain-auc:0.992536\n",
      "[351]\ttrain-auc:0.992539\n",
      "[352]\ttrain-auc:0.992540\n",
      "[353]\ttrain-auc:0.992540\n",
      "[354]\ttrain-auc:0.992567\n",
      "[355]\ttrain-auc:0.992569\n",
      "[356]\ttrain-auc:0.992571\n",
      "[357]\ttrain-auc:0.992572\n",
      "[358]\ttrain-auc:0.992575\n",
      "[359]\ttrain-auc:0.992577\n",
      "[360]\ttrain-auc:0.992578\n",
      "[361]\ttrain-auc:0.992580\n",
      "[362]\ttrain-auc:0.992582\n",
      "[363]\ttrain-auc:0.992584\n",
      "[364]\ttrain-auc:0.992586\n",
      "[365]\ttrain-auc:0.992587\n",
      "[366]\ttrain-auc:0.992589\n",
      "[367]\ttrain-auc:0.992591\n",
      "[368]\ttrain-auc:0.992592\n",
      "[369]\ttrain-auc:0.992594\n",
      "[370]\ttrain-auc:0.992595\n",
      "[371]\ttrain-auc:0.992597\n",
      "[372]\ttrain-auc:0.992599\n",
      "[373]\ttrain-auc:0.992601\n",
      "[374]\ttrain-auc:0.992603\n",
      "[375]\ttrain-auc:0.992604\n",
      "[376]\ttrain-auc:0.992606\n",
      "[377]\ttrain-auc:0.992607\n",
      "[378]\ttrain-auc:0.992609\n",
      "[379]\ttrain-auc:0.992611\n",
      "[380]\ttrain-auc:0.992613\n",
      "[381]\ttrain-auc:0.992614\n",
      "[382]\ttrain-auc:0.992616\n",
      "[383]\ttrain-auc:0.992616\n",
      "[384]\ttrain-auc:0.992617\n",
      "[385]\ttrain-auc:0.992618\n",
      "[386]\ttrain-auc:0.992620\n",
      "[387]\ttrain-auc:0.992622\n",
      "[388]\ttrain-auc:0.992623\n",
      "[389]\ttrain-auc:0.992625\n",
      "[390]\ttrain-auc:0.992626\n",
      "[391]\ttrain-auc:0.992629\n",
      "[392]\ttrain-auc:0.992631\n",
      "[393]\ttrain-auc:0.992632\n",
      "[394]\ttrain-auc:0.992634\n",
      "[395]\ttrain-auc:0.992636\n",
      "[396]\ttrain-auc:0.992638\n",
      "[397]\ttrain-auc:0.992640\n",
      "[398]\ttrain-auc:0.992641\n",
      "[399]\ttrain-auc:0.992643\n",
      "[400]\ttrain-auc:0.992645\n",
      "[401]\ttrain-auc:0.992654\n",
      "[402]\ttrain-auc:0.992656\n",
      "[403]\ttrain-auc:0.992657\n",
      "[404]\ttrain-auc:0.992659\n",
      "[405]\ttrain-auc:0.992660\n",
      "[406]\ttrain-auc:0.992662\n",
      "[407]\ttrain-auc:0.992666\n",
      "[408]\ttrain-auc:0.992667\n",
      "[409]\ttrain-auc:0.992669\n",
      "[410]\ttrain-auc:0.992670\n",
      "[411]\ttrain-auc:0.992672\n",
      "[412]\ttrain-auc:0.992674\n",
      "[413]\ttrain-auc:0.992676\n",
      "[414]\ttrain-auc:0.992678\n",
      "[415]\ttrain-auc:0.992679\n",
      "[416]\ttrain-auc:0.992681\n",
      "[417]\ttrain-auc:0.992683\n",
      "[418]\ttrain-auc:0.992684\n",
      "[419]\ttrain-auc:0.992686\n",
      "[420]\ttrain-auc:0.992688\n",
      "[421]\ttrain-auc:0.992689\n",
      "[422]\ttrain-auc:0.992691\n",
      "[423]\ttrain-auc:0.992693\n",
      "[424]\ttrain-auc:0.992748\n",
      "[425]\ttrain-auc:0.992750\n",
      "[426]\ttrain-auc:0.992756\n",
      "[427]\ttrain-auc:0.992758\n",
      "[428]\ttrain-auc:0.992760\n",
      "[429]\ttrain-auc:0.992761\n",
      "[430]\ttrain-auc:0.992763\n",
      "[431]\ttrain-auc:0.992764\n",
      "[432]\ttrain-auc:0.992766\n",
      "[433]\ttrain-auc:0.992768\n",
      "[434]\ttrain-auc:0.992769\n",
      "[435]\ttrain-auc:0.992771\n",
      "[436]\ttrain-auc:0.992773\n",
      "[437]\ttrain-auc:0.992775\n",
      "[438]\ttrain-auc:0.992776\n",
      "[439]\ttrain-auc:0.992778\n",
      "[440]\ttrain-auc:0.992779\n",
      "[441]\ttrain-auc:0.992781\n",
      "[442]\ttrain-auc:0.992785\n",
      "[443]\ttrain-auc:0.992787\n",
      "[444]\ttrain-auc:0.992788\n",
      "[445]\ttrain-auc:0.992790\n",
      "[446]\ttrain-auc:0.992792\n",
      "[447]\ttrain-auc:0.992793\n",
      "[448]\ttrain-auc:0.992795\n",
      "[449]\ttrain-auc:0.992796\n",
      "[450]\ttrain-auc:0.992798\n",
      "[451]\ttrain-auc:0.992800\n",
      "[452]\ttrain-auc:0.992801\n",
      "[453]\ttrain-auc:0.992803\n",
      "[454]\ttrain-auc:0.992804\n",
      "[455]\ttrain-auc:0.992806\n",
      "[456]\ttrain-auc:0.992807\n",
      "[457]\ttrain-auc:0.992809\n",
      "[458]\ttrain-auc:0.992810\n",
      "[459]\ttrain-auc:0.992812\n",
      "[460]\ttrain-auc:0.992814\n",
      "[461]\ttrain-auc:0.992815\n",
      "[462]\ttrain-auc:0.992817\n",
      "[463]\ttrain-auc:0.992819\n",
      "[464]\ttrain-auc:0.992821\n",
      "[465]\ttrain-auc:0.992823\n",
      "[466]\ttrain-auc:0.992824\n",
      "[467]\ttrain-auc:0.992826\n",
      "[468]\ttrain-auc:0.992828\n",
      "[469]\ttrain-auc:0.992829\n",
      "[470]\ttrain-auc:0.992833\n",
      "[471]\ttrain-auc:0.992835\n",
      "[472]\ttrain-auc:0.992836\n",
      "[473]\ttrain-auc:0.992837\n",
      "[474]\ttrain-auc:0.992839\n",
      "[475]\ttrain-auc:0.992840\n",
      "[476]\ttrain-auc:0.992842\n",
      "[477]\ttrain-auc:0.992843\n",
      "[478]\ttrain-auc:0.992845\n",
      "[479]\ttrain-auc:0.992846\n",
      "[480]\ttrain-auc:0.992847\n",
      "[481]\ttrain-auc:0.992849\n",
      "[482]\ttrain-auc:0.992850\n",
      "[483]\ttrain-auc:0.992852\n",
      "[484]\ttrain-auc:0.992853\n",
      "[485]\ttrain-auc:0.992855\n",
      "[486]\ttrain-auc:0.992856\n",
      "[487]\ttrain-auc:0.992856\n",
      "[488]\ttrain-auc:0.992857\n",
      "[489]\ttrain-auc:0.992859\n",
      "[490]\ttrain-auc:0.992861\n",
      "[491]\ttrain-auc:0.992862\n",
      "[492]\ttrain-auc:0.992864\n",
      "[493]\ttrain-auc:0.992865\n",
      "[494]\ttrain-auc:0.992867\n",
      "[495]\ttrain-auc:0.992868\n",
      "[496]\ttrain-auc:0.992869\n",
      "[497]\ttrain-auc:0.992871\n",
      "[498]\ttrain-auc:0.992872\n",
      "[499]\ttrain-auc:0.992874\n",
      "[500]\ttrain-auc:0.992876\n",
      "[501]\ttrain-auc:0.992877\n",
      "[502]\ttrain-auc:0.992879\n",
      "[503]\ttrain-auc:0.992880\n",
      "[504]\ttrain-auc:0.992886\n",
      "[505]\ttrain-auc:0.992888\n",
      "[506]\ttrain-auc:0.992889\n",
      "[507]\ttrain-auc:0.992891\n",
      "[508]\ttrain-auc:0.992892\n",
      "[509]\ttrain-auc:0.992894\n",
      "[510]\ttrain-auc:0.992895\n",
      "[511]\ttrain-auc:0.992897\n",
      "[512]\ttrain-auc:0.992898\n",
      "[513]\ttrain-auc:0.992900\n",
      "[514]\ttrain-auc:0.992901\n",
      "[515]\ttrain-auc:0.992902\n",
      "[516]\ttrain-auc:0.992904\n",
      "[517]\ttrain-auc:0.992906\n",
      "[518]\ttrain-auc:0.992907\n",
      "[519]\ttrain-auc:0.992909\n",
      "[520]\ttrain-auc:0.992914\n",
      "[521]\ttrain-auc:0.992916\n",
      "[522]\ttrain-auc:0.992917\n",
      "[523]\ttrain-auc:0.992918\n",
      "[524]\ttrain-auc:0.992921\n",
      "[525]\ttrain-auc:0.992923\n",
      "[526]\ttrain-auc:0.992925\n",
      "[527]\ttrain-auc:0.992926\n",
      "[528]\ttrain-auc:0.992928\n",
      "[529]\ttrain-auc:0.992929\n",
      "[530]\ttrain-auc:0.992930\n",
      "[531]\ttrain-auc:0.992932\n",
      "[532]\ttrain-auc:0.992933\n",
      "[533]\ttrain-auc:0.992941\n",
      "[534]\ttrain-auc:0.992942\n",
      "[535]\ttrain-auc:0.992944\n",
      "[536]\ttrain-auc:0.992945\n",
      "[537]\ttrain-auc:0.992947\n",
      "[538]\ttrain-auc:0.992948\n",
      "[539]\ttrain-auc:0.992949\n"
     ]
    }
   ],
   "source": [
    "watchlist  = [(dtrain,'train')]\n",
    "num_round = 540\n",
    "early_stopping_rounds=20\n",
    "bst = xgb.train(param, dtrain, num_round, watchlist,early_stopping_rounds=early_stopping_rounds)"
   ]
  },
  {
   "cell_type": "code",
   "execution_count": 215,
   "metadata": {
    "collapsed": false
   },
   "outputs": [],
   "source": [
    "ypred = bst.predict(dtest)"
   ]
  },
  {
   "cell_type": "code",
   "execution_count": 220,
   "metadata": {
    "collapsed": false
   },
   "outputs": [],
   "source": [
    "myxgb = pd.DataFrame({'activity_id': test['activity_id'], 'outcome': ypred})"
   ]
  },
  {
   "cell_type": "code",
   "execution_count": 224,
   "metadata": {
    "collapsed": false
   },
   "outputs": [],
   "source": [
    "myxgb.to_csv('myxgb.csv',index=False)"
   ]
  },
  {
   "cell_type": "markdown",
   "metadata": {},
   "source": [
    "# Random Forest of Final Set of Features"
   ]
  },
  {
   "cell_type": "code",
   "execution_count": 226,
   "metadata": {
    "collapsed": false
   },
   "outputs": [],
   "source": [
    "from sklearn.ensemble import RandomForestClassifier"
   ]
  },
  {
   "cell_type": "code",
   "execution_count": 227,
   "metadata": {
    "collapsed": true
   },
   "outputs": [],
   "source": [
    "rf = RandomForestClassifier(n_estimators = 500, criterion= 'gini', max_depth = 11, random_state = 500)"
   ]
  },
  {
   "cell_type": "code",
   "execution_count": 228,
   "metadata": {
    "collapsed": true
   },
   "outputs": [],
   "source": [
    "rfmodel = rf.fit(Xtrain,y)"
   ]
  },
  {
   "cell_type": "code",
   "execution_count": 229,
   "metadata": {
    "collapsed": true
   },
   "outputs": [],
   "source": [
    "rfpred = rf.predict_proba(Xtest)"
   ]
  },
  {
   "cell_type": "code",
   "execution_count": 232,
   "metadata": {
    "collapsed": false
   },
   "outputs": [],
   "source": [
    "rfpred = rfpred[:,1]"
   ]
  },
  {
   "cell_type": "code",
   "execution_count": 233,
   "metadata": {
    "collapsed": true
   },
   "outputs": [],
   "source": [
    "myrf = pd.DataFrame({'activity_id': test['activity_id'], 'outcome': rfpred})"
   ]
  },
  {
   "cell_type": "code",
   "execution_count": 235,
   "metadata": {
    "collapsed": false
   },
   "outputs": [],
   "source": [
    "myrf.to_csv('myrf.csv',index=False)"
   ]
  }
 ],
 "metadata": {
  "kernelspec": {
   "display_name": "Python 2",
   "language": "python",
   "name": "python2"
  },
  "language_info": {
   "codemirror_mode": {
    "name": "ipython",
    "version": 2
   },
   "file_extension": ".py",
   "mimetype": "text/x-python",
   "name": "python",
   "nbconvert_exporter": "python",
   "pygments_lexer": "ipython2",
   "version": "2.7.11"
  }
 },
 "nbformat": 4,
 "nbformat_minor": 0
}
